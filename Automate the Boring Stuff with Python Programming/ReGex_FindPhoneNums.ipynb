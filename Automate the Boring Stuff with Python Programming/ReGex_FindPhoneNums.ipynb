{
 "cells": [
  {
   "cell_type": "code",
   "execution_count": null,
   "metadata": {},
   "outputs": [],
   "source": [
    "# -*- coding: utf-8 -*-\n",
    "\"\"\"\n",
    "Created by Serino at 10/15/2018\n",
    "\"\"\"\n",
    "\n",
    "import re\n",
    "\n",
    "message = 'call me 123-1234-1234 or 122-1233-1233'\n",
    "\n",
    "phoneNumRegex = re.compile(r'\\d\\d\\d-\\d\\d\\d\\d-\\d\\d\\d\\d')\n",
    "matchObject = phoneNumRegex.findall(message)\n",
    "print(f'the phone Nums in message is {matchObject}')\n"
   ]
  }
 ],
 "metadata": {
  "language": "python"
 },
 "nbformat": 4,
 "nbformat_minor": 2
}
