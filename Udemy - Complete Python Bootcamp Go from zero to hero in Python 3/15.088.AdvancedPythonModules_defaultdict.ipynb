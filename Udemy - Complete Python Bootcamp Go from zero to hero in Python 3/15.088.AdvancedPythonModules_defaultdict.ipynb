{
 "cells": [
  {
   "cell_type": "code",
   "execution_count": 30,
   "metadata": {
    "collapsed": true,
    "pycharm": {
     "is_executing": false
    }
   },
   "outputs": [
    {
     "name": "stdout",
     "text": [
      "dict_items([('k1', 1), ('k2', 3)])\n",
      "k1\n",
      "k2\n"
     ],
     "output_type": "stream"
    }
   ],
   "source": [
    "from collections import defaultdict\n",
    "\n",
    "d = {'k1':1,'k2':3}\n",
    "print(d.items())\n",
    "\n",
    "for item in d:\n",
    "    print(item)\n"
   ]
  },
  {
   "cell_type": "code",
   "execution_count": 35,
   "outputs": [
    {
     "name": "stdout",
     "text": [
      "dict_items([])\n",
      "------\n",
      "------\n",
      "dict_items([('one', <object object at 0x000001E4798B9680>)])\n",
      "one\n"
     ],
     "output_type": "stream"
    }
   ],
   "source": [
    "d = defaultdict(object)\n",
    "\n",
    "print(d.items())\n",
    "\n",
    "print('------')\n",
    "for item in d:\n",
    "    print(item)\n",
    "\n",
    "print('------')\n",
    "d[\"one\"]\n",
    "\n",
    "print(d.items())\n",
    "\n",
    "for item in d:\n",
    "    print(item)"
   ],
   "metadata": {
    "collapsed": false,
    "pycharm": {
     "name": "#%%\n",
     "is_executing": false
    }
   }
  },
  {
   "cell_type": "code",
   "execution_count": 40,
   "outputs": [
    {
     "data": {
      "text/plain": "0"
     },
     "metadata": {},
     "output_type": "execute_result",
     "execution_count": 40
    }
   ],
   "source": [
    "d_2 = defaultdict(object)\n",
    "d_2['a','b']\n",
    "\n",
    "d_2 = defaultdict(lambda: 0)\n",
    "\n",
    "d_2['a']"
   ],
   "metadata": {
    "collapsed": false,
    "pycharm": {
     "name": "#%%\n",
     "is_executing": false
    }
   }
  }
 ],
 "metadata": {
  "kernelspec": {
   "display_name": "Python 3",
   "language": "python",
   "name": "python3"
  },
  "language_info": {
   "codemirror_mode": {
    "name": "ipython",
    "version": 2
   },
   "file_extension": ".py",
   "mimetype": "text/x-python",
   "name": "python",
   "nbconvert_exporter": "python",
   "pygments_lexer": "ipython2",
   "version": "2.7.6"
  },
  "pycharm": {
   "stem_cell": {
    "cell_type": "raw",
    "source": [],
    "metadata": {
     "collapsed": false
    }
   }
  }
 },
 "nbformat": 4,
 "nbformat_minor": 0
}