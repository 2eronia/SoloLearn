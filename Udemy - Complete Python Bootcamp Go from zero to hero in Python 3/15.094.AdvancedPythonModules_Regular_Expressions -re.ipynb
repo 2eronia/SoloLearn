{
 "cells": [
  {
   "cell_type": "code",
   "execution_count": 11,
   "metadata": {
    "collapsed": true
   },
   "outputs": [
    {
     "data": {
      "text/plain": "['HELlo~',\n 'and',\n 'this',\n 'is',\n 'a',\n 'string',\n 'But',\n 'it',\n 'has',\n 'punctuation',\n 'How',\n 'can',\n 'we',\n 'remove',\n 'it']"
     },
     "execution_count": 11,
     "metadata": {},
     "output_type": "execute_result"
    }
   ],
   "source": [
    "import re\n",
    "\n",
    "test_phrase = 'HELlo~, and this is a string! But it has punctuation. How can we remove it?'\n",
    "\n",
    "re.findall('[^!.? ,]+',test_phrase)\n",
    "# Remind, there is an ' ' -- space in the bracket"
   ]
  },
  {
   "cell_type": "code",
   "execution_count": 12,
   "outputs": [],
   "source": [
    "def multi_re_find(patterns,phrase):\n",
    "    '''\n",
    "    Takes in a list of regex patterns\n",
    "    Prints a list of all matches\n",
    "    '''\n",
    "    for pattern in patterns:\n",
    "        print(f'Searching the phrase using the re check: {pattern}')\n",
    "        print(re.findall(pattern,phrase))\n",
    "        print('\\n')"
   ],
   "metadata": {
    "collapsed": false,
    "pycharm": {
     "name": "#%%\n"
    }
   }
  },
  {
   "cell_type": "code",
   "execution_count": 13,
   "outputs": [
    {
     "name": "stdout",
     "output_type": "stream",
     "text": [
      "Searching the phrase using the re check: sd*\n",
      "['sd', 'sd', 's', 's', 'sddd', 'sddd', 'sddd', 'sd', 's', 's', 's', 's', 's', 's', 'sdddd']\n",
      "\n",
      "\n",
      "Searching the phrase using the re check: sd+\n",
      "['sd', 'sd', 'sddd', 'sddd', 'sddd', 'sd', 'sdddd']\n",
      "\n",
      "\n",
      "Searching the phrase using the re check: sd?\n",
      "['sd', 'sd', 's', 's', 'sd', 'sd', 'sd', 'sd', 's', 's', 's', 's', 's', 's', 'sd']\n",
      "\n",
      "\n",
      "Searching the phrase using the re check: sd{3}\n",
      "['sddd', 'sddd', 'sddd', 'sddd']\n",
      "\n",
      "\n",
      "Searching the phrase using the re check: sd{2,3}\n",
      "['sddd', 'sddd', 'sddd', 'sddd']\n",
      "\n",
      "\n"
     ]
    }
   ],
   "source": [
    "test_phrase = 'sdsd..sssddd...sdddsddd...dsds...dsssss...sdddd'\n",
    "\n",
    "test_patterns = [ 'sd*',     # s followed by zero or more d's\n",
    "                  'sd+',          # s followed by one or more d's\n",
    "                  'sd?',          # s followed by zero or one d's\n",
    "                  'sd{3}',        # s followed by three d's\n",
    "                  'sd{2,3}',]      # s followed by two to three d's\n",
    "\n",
    "multi_re_find(test_patterns,test_phrase)"
   ],
   "metadata": {
    "collapsed": false,
    "pycharm": {
     "name": "#%%\n"
    }
   }
  },
  {
   "cell_type": "code",
   "execution_count": 14,
   "outputs": [
    {
     "name": "stdout",
     "output_type": "stream",
     "text": [
      "Searching the phrase using the re check: [a-z]+\n",
      "['lo', 'and', 'this', 'is', 'a', 'string', 'ut', 'it', 'has', 'punctuation', 'ow', 'can', 'we', 'remove', 'it']\n",
      "\n",
      "\n",
      "Searching the phrase using the re check: [A-Z]+\n",
      "['HEL', 'B', 'H']\n",
      "\n",
      "\n",
      "Searching the phrase using the re check: [a-zA-Z]+\n",
      "['HELlo', 'and', 'this', 'is', 'a', 'string', 'But', 'it', 'has', 'punctuation', 'How', 'can', 'we', 'remove', 'it']\n",
      "\n",
      "\n",
      "Searching the phrase using the re check: [A-Z][a-z]+\n",
      "['Llo', 'But', 'How']\n",
      "\n",
      "\n",
      "Searching the phrase using the re check: [A-Z]+[a-z]+\n",
      "['HELlo', 'But', 'How']\n",
      "\n",
      "\n"
     ]
    }
   ],
   "source": [
    "test_phrase = 'HELlo~, and this is a string! But it has punctuation. How can we remove it?'\n",
    "\n",
    "test_patterns_0 = [ '[a-z]+',       # sequences of lower case letters\n",
    "                    '[A-Z]+',       # sequences of upper case letters\n",
    "                    '[a-zA-Z]+',    # sequences of lower or upper case letters\n",
    "                    '[A-Z][a-z]+',   # one upper case letter followed by lower case letters\n",
    "                    '[A-Z]+[a-z]+']\n",
    "\n",
    "multi_re_find(test_patterns_0,test_phrase)"
   ],
   "metadata": {
    "collapsed": false,
    "pycharm": {
     "name": "#%%\n"
    }
   }
  },
  {
   "cell_type": "code",
   "execution_count": 15,
   "outputs": [
    {
     "name": "stdout",
     "output_type": "stream",
     "text": [
      "Searching the phrase using the re check: \\d+\n",
      "['1233']\n",
      "\n",
      "\n",
      "Searching the phrase using the re check: \\D+\n",
      "['This is a string with some numbers ', ' and a symbol #hashtag']\n",
      "\n",
      "\n",
      "Searching the phrase using the re check: \\s+\n",
      "[' ', ' ', ' ', ' ', ' ', ' ', ' ', ' ', ' ', ' ', ' ']\n",
      "\n",
      "\n",
      "Searching the phrase using the re check: \\S+\n",
      "['This', 'is', 'a', 'string', 'with', 'some', 'numbers', '1233', 'and', 'a', 'symbol', '#hashtag']\n",
      "\n",
      "\n",
      "Searching the phrase using the re check: \\w+\n",
      "['This', 'is', 'a', 'string', 'with', 'some', 'numbers', '1233', 'and', 'a', 'symbol', 'hashtag']\n",
      "\n",
      "\n",
      "Searching the phrase using the re check: \\W+\n",
      "[' ', ' ', ' ', ' ', ' ', ' ', ' ', ' ', ' ', ' ', ' #']\n",
      "\n",
      "\n"
     ]
    }
   ],
   "source": [
    "test_phrase = 'This is a string with some numbers 1233 and a symbol #hashtag'\n",
    "\n",
    "test_patterns_1 = [ r'\\d+', # sequence of digits\n",
    "                    r'\\D+', # sequence of non-digits\n",
    "                    r'\\s+', # sequence of whitespace\n",
    "                    r'\\S+', # sequence of non-whitespace\n",
    "                    r'\\w+', # alphanumeric characters\n",
    "                    r'\\W+',] # non-alphanumeric\n",
    "\n",
    "multi_re_find(test_patterns_1,test_phrase)"
   ],
   "metadata": {
    "collapsed": false,
    "pycharm": {
     "name": "#%%\n"
    }
   }
  }
 ],
 "metadata": {
  "kernelspec": {
   "name": "pycharm-9fba9213",
   "language": "python",
   "display_name": "PyCharm (SoloLearn)"
  },
  "language_info": {
   "codemirror_mode": {
    "name": "ipython",
    "version": 2
   },
   "file_extension": ".py",
   "mimetype": "text/x-python",
   "name": "python",
   "nbconvert_exporter": "python",
   "pygments_lexer": "ipython2",
   "version": "2.7.6"
  }
 },
 "nbformat": 4,
 "nbformat_minor": 0
}