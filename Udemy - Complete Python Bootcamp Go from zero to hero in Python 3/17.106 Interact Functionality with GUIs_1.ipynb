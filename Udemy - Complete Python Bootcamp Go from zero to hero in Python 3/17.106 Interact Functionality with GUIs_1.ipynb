{
 "cells": [
  {
   "cell_type": "code",
   "execution_count": 19,
   "metadata": {
    "collapsed": true,
    "pycharm": {
     "name": "#%%\n"
    }
   },
   "outputs": [],
   "source": [
    "from ipywidgets import interact,interactive,fixed\n",
    "import ipywidgets as widgets\n",
    "from IPython.display import display\n",
    "\n",
    "# unlike interact\n",
    "# with interactive\n",
    "# the return value of the function\n",
    "# will not be displayed automatically"
   ]
  },
  {
   "cell_type": "code",
   "execution_count": 20,
   "outputs": [],
   "source": [
    "def func(a,b):\n",
    "    display(a+b)\n",
    "    return a+b"
   ],
   "metadata": {
    "collapsed": false,
    "pycharm": {
     "name": "#%%\n"
    }
   }
  },
  {
   "cell_type": "code",
   "execution_count": 21,
   "outputs": [],
   "source": [
    "w = interactive(func,a=5,b=10)"
   ],
   "metadata": {
    "collapsed": false,
    "pycharm": {
     "name": "#%%\n"
    }
   }
  },
  {
   "cell_type": "code",
   "execution_count": 22,
   "outputs": [
    {
     "data": {
      "text/plain": "ipywidgets.widgets.interaction.interactive"
     },
     "execution_count": 22,
     "metadata": {},
     "output_type": "execute_result"
    }
   ],
   "source": [
    "type(w)"
   ],
   "metadata": {
    "collapsed": false,
    "pycharm": {
     "name": "#%%\n"
    }
   }
  },
  {
   "cell_type": "code",
   "execution_count": 23,
   "outputs": [
    {
     "data": {
      "text/plain": "(IntSlider(value=5, description='a', max=15, min=-5),\n IntSlider(value=10, description='b', max=30, min=-10),\n Output())"
     },
     "execution_count": 23,
     "metadata": {},
     "output_type": "execute_result"
    }
   ],
   "source": [
    "w.children"
   ],
   "metadata": {
    "collapsed": false,
    "pycharm": {
     "name": "#%%\n"
    }
   }
  },
  {
   "cell_type": "code",
   "execution_count": 24,
   "outputs": [
    {
     "data": {
      "text/plain": "interactive(children=(IntSlider(value=5, description='a', max=15, min=-5), IntSlider(value=10, description='b'…",
      "application/vnd.jupyter.widget-view+json": {
       "version_major": 2,
       "version_minor": 0,
       "model_id": "d179a26dfa784cb99de77326b6724c0d"
      }
     },
     "metadata": {},
     "output_type": "display_data"
    }
   ],
   "source": [
    "display(w)"
   ],
   "metadata": {
    "collapsed": false,
    "pycharm": {
     "name": "#%%\n"
    }
   }
  },
  {
   "cell_type": "code",
   "execution_count": 25,
   "outputs": [
    {
     "data": {
      "text/plain": "['_dom_classes',\n '_model_module',\n '_model_module_version',\n '_model_name',\n '_view_count',\n '_view_module',\n '_view_module_version',\n '_view_name',\n 'box_style',\n 'children',\n 'layout']"
     },
     "execution_count": 25,
     "metadata": {},
     "output_type": "execute_result"
    }
   ],
   "source": [
    "w.keys"
   ],
   "metadata": {
    "collapsed": false,
    "pycharm": {
     "name": "#%%\n"
    }
   }
  },
  {
   "cell_type": "code",
   "execution_count": 26,
   "outputs": [
    {
     "data": {
      "text/plain": "{'3b2c04c79a494ebeaf63b7085d0e48d5': Layout(),\n 'e842634ac74f451497a9764f0c171287': interactive(children=(IntSlider(value=-5, description='a', max=15, min=-5), IntSlider(value=10, description='b', max=30, min=-10), Output(outputs=({'data': {'text/plain': '5'}, 'metadata': {}, 'transient': {}, 'output_type': 'display_data'},))), _dom_classes=('widget-interact',)),\n '00cf805a6d5b40b38e333a68413a24d4': Layout(),\n '49824bbc0e14428f9d873d0b1443039d': SliderStyle(),\n 'de6b9c59584340d6a8761c86f7ead8ba': IntSlider(value=-5, description='a', max=15, min=-5),\n '28b27be8ab9e4d1fa990ad6affd24f85': Layout(),\n 'ae854179822b40ef81eaa9b39abab6d7': SliderStyle(),\n '23bc2baee1b14f9281a9fc3e624ba3de': IntSlider(value=10, description='b', max=30, min=-10),\n '86e3c7d1d4364262b6794b92bcebee77': Layout(),\n '0d8c2dc26f9947beba81e89ebea12169': Output(outputs=({'data': {'text/plain': '5'}, 'metadata': {}, 'transient': {}, 'output_type': 'display_data'},)),\n '0a004f4b18b54045812d7a45e3b7ff1f': Layout(),\n 'd179a26dfa784cb99de77326b6724c0d': interactive(children=(IntSlider(value=5, description='a', max=15, min=-5), IntSlider(value=10, description='b', max=30, min=-10), Output()), _dom_classes=('widget-interact',)),\n '4a3d379ca2ce4590bdef4a159011a621': Layout(),\n '03460fb5cf6c4096adb75c076b90472b': SliderStyle(),\n '54809456015d4181a7ffd4e386883acd': IntSlider(value=5, description='a', max=15, min=-5),\n 'f8470058ca5c427293a382d3a3f4b74f': Layout(),\n '1ec669b3e3c2463e9143eeafc7b52e4c': SliderStyle(),\n '8bd597e030fa4f119b8e9c01eb12cd64': IntSlider(value=10, description='b', max=30, min=-10),\n '13148f311f0c45a8958d0e3e27cb623d': Layout(),\n 'e49c81022e00419da40ab437fc2c1993': Output()}"
     },
     "execution_count": 26,
     "metadata": {},
     "output_type": "execute_result"
    }
   ],
   "source": [
    "w.widgets"
   ],
   "metadata": {
    "collapsed": false,
    "pycharm": {
     "name": "#%%\n"
    }
   }
  },
  {
   "cell_type": "code",
   "execution_count": 27,
   "outputs": [
    {
     "data": {
      "text/plain": "[IntSlider(value=5, description='a', max=15, min=-5),\n IntSlider(value=10, description='b', max=30, min=-10)]"
     },
     "execution_count": 27,
     "metadata": {},
     "output_type": "execute_result"
    }
   ],
   "source": [
    "w.kwargs_widgets"
   ],
   "metadata": {
    "collapsed": false,
    "pycharm": {
     "name": "#%%\n"
    }
   }
  },
  {
   "cell_type": "code",
   "execution_count": 28,
   "outputs": [
    {
     "data": {
      "text/plain": "{'a': 5, 'b': 10}"
     },
     "execution_count": 28,
     "metadata": {},
     "output_type": "execute_result"
    }
   ],
   "source": [
    "w.kwargs"
   ],
   "metadata": {
    "collapsed": false,
    "pycharm": {
     "name": "#%%\n"
    }
   }
  },
  {
   "cell_type": "code",
   "execution_count": 29,
   "outputs": [
    {
     "data": {
      "text/plain": "15"
     },
     "execution_count": 29,
     "metadata": {},
     "output_type": "execute_result"
    }
   ],
   "source": [
    "w.result"
   ],
   "metadata": {
    "collapsed": false,
    "pycharm": {
     "name": "#%%\n"
    }
   }
  },
  {
   "cell_type": "code",
   "execution_count": 29,
   "outputs": [],
   "source": [],
   "metadata": {
    "collapsed": false,
    "pycharm": {
     "name": "#%%\n"
    }
   }
  }
 ],
 "metadata": {
  "kernelspec": {
   "name": "pycharm-9fba9213",
   "language": "python",
   "display_name": "PyCharm (SoloLearn)"
  },
  "language_info": {
   "codemirror_mode": {
    "name": "ipython",
    "version": 2
   },
   "file_extension": ".py",
   "mimetype": "text/x-python",
   "name": "python",
   "nbconvert_exporter": "python",
   "pygments_lexer": "ipython2",
   "version": "2.7.6"
  }
 },
 "nbformat": 4,
 "nbformat_minor": 0
}